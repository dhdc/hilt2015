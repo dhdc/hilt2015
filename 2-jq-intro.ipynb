{
 "cells": [
  {
   "cell_type": "markdown",
   "metadata": {},
   "source": [
    "#Tools for JSON: jq\n",
    "\n",
    "`jq` is a command line tool that allows you to create small programs to work with data in JSON format very efficiently. (\"Efficiently\" here is meant in the computational sense&mdash;that is, you can work with large quanitities of data without worrying too much about not having enough memory or other system resources).\n",
    "\n",
    "In the specialized jargon used in `jq`'s documentation, you create \"filters\" to work with \"streams\" of JSON data.\n",
    "\n",
    "Some common tasks that can be accomplished with jq include:\n",
    "\n",
    "* reformatting JSON to make it easier (for humans) to read\n",
    "* profiling data &mdash; figuring out what keys a set of JSON contains\n",
    "* plucking out specific values (if you know the key you're looking for)\n",
    "* re-shaping JSON data for different purposes\n",
    "* and more … (see the [manual](http://stedolan.github.io/jq/manual/))\n",
    "\n",
    "This notebook is intended to introduce you to these basic operations you can use `jq` to perform."
   ]
  },
  {
   "cell_type": "markdown",
   "metadata": {},
   "source": [
    "We'll use a sample data set [provided by the Tate Gallery](https://github.com/tategallery/collection) to demonstrate. "
   ]
  },
  {
   "cell_type": "markdown",
   "metadata": {},
   "source": [
    "### Preliminaries\n",
    "\n",
    "**Don't worry too much about understanding what's going on in this next section.** It's just about moving data around so we have a reasonable but not overwhelming amount of JSON to work with"
   ]
  },
  {
   "cell_type": "code",
   "execution_count": null,
   "metadata": {
    "collapsed": false
   },
   "outputs": [],
   "source": [
    "import tarfile\n",
    "import re\n",
    "import os\n",
    "from itertools import count\n",
    "\n",
    "# You have a copy of this file in your `data` directory. Tate provides the data in a single TAR (tape archive) file\n",
    "DATA_PATH = '../data/tate-collection-1.2.tar.gz'\n",
    "DATA_FOBJ = tarfile.open(DATA_PATH)\n",
    "\n",
    "# We can use Python's tools for working with tar files to inspect the data package\n",
    "# For instance by listing the files it contains without unpacking it\n",
    "FILES = DATA_FOBJ.getmembers()\n",
    "len(FILES)"
   ]
  },
  {
   "cell_type": "markdown",
   "metadata": {},
   "source": [
    "There's a lot of data here! Let's look at how it's organized (The first 1000 files should give the basic flavor) …"
   ]
  },
  {
   "cell_type": "code",
   "execution_count": null,
   "metadata": {
    "collapsed": false
   },
   "outputs": [],
   "source": [
    "for f in FILES[:1000]:\n",
    "    print(f)"
   ]
  },
  {
   "cell_type": "markdown",
   "metadata": {
    "collapsed": false
   },
   "source": [
    "For the moment, we're interested in the JSON files under `collection-1.2/artists`, and for now, let's just take the artists with names starting with the letter \"a\" (as a manageable subset with which to start)"
   ]
  },
  {
   "cell_type": "code",
   "execution_count": null,
   "metadata": {
    "collapsed": false
   },
   "outputs": [],
   "source": [
    "# We're only going to unpack the part of the tar archive with a-artist JSON files\n",
    "pattern = re.compile(r\"artists\\/a\\/.*\\.json\")\n",
    "\n",
    "def get_a_names(tpath):\n",
    "    if pattern.search(tpath.name) == None:\n",
    "        return False\n",
    "    else:\n",
    "        return True\n",
    "\n",
    "a_names_indices = [index for index, obj in zip(count(), FILES) if get_a_names(obj) == True]\n",
    "DATA_FOBJ.extractall(path='../data/tate-collection',members=FILES[a_names_indices[0]:a_names_indices[-1]])"
   ]
  },
  {
   "cell_type": "markdown",
   "metadata": {
    "collapsed": true
   },
   "source": [
    "Now, we have a directory of JSON files …"
   ]
  },
  {
   "cell_type": "code",
   "execution_count": null,
   "metadata": {
    "collapsed": false
   },
   "outputs": [],
   "source": [
    "directory_list = os.listdir('../data/tate-collection/collection-1.2/artists/a')\n",
    "for f in directory_list:\n",
    "    print(f)"
   ]
  },
  {
   "cell_type": "code",
   "execution_count": null,
   "metadata": {
    "collapsed": false
   },
   "outputs": [],
   "source": [
    "len(directory_list)"
   ]
  },
  {
   "cell_type": "markdown",
   "metadata": {},
   "source": [
    "Much more manageable, now let's look at `jq` …"
   ]
  },
  {
   "cell_type": "markdown",
   "metadata": {},
   "source": [
    "### What `jq` can do\n",
    "NB: From here on, the code is shell script rather than Python …"
   ]
  },
  {
   "cell_type": "markdown",
   "metadata": {},
   "source": [
    "#### Human readability\n",
    "`jq` can format (or \"pretty print\") JSON so that it's easier (for humans) to read. We can compare by printing out the contents of one file, first in compact format, then pretty-printed:\n",
    "```\n",
    "{\"activePlaceCount\":0,\"birth\":{\"place\":{\"name\":\"Polska\",\"placeName\":\"Polska\",\"placeType\":\"nation\"},\"time\":{\"startYear\":1930}},\"birthYear\":1930,\"date\":\"born 1930\",\"fc\":\"Magdalena Abakanowicz\",\"gender\":\"Female\",\"id\":10093,\"mda\":\"Abakanowicz, Magdalena\",\"movements\":[],\"startLetter\":\"A\",\"totalWorks\":4,\"url\":\"http://www.tate.org.uk/art/artists/magdalena-abakanowicz-10093\"}\n",
    "```"
   ]
  },
  {
   "cell_type": "code",
   "execution_count": null,
   "metadata": {
    "collapsed": false
   },
   "outputs": [],
   "source": [
    "!cat ../data/tate-collection/collection-1.2/artists/a/abakanowicz-magdalena-10093.json | jq ."
   ]
  },
  {
   "cell_type": "markdown",
   "metadata": {},
   "source": [
    "Note this version breaks content across multiple lines making it easier to see where objects (denoted by pairs of curly brackets) begin and end. Also, keys and values are printed in different colors, and different types of values (strings vs numeric literals) are printed in different colors to help distinguish them.\\*\n",
    "\n",
    "\\* YMMV somewhat depending on the color settings of your terminal program"
   ]
  },
  {
   "cell_type": "markdown",
   "metadata": {},
   "source": [
    "Remember that everything in `jq` is a filter, so, as the documentation explains, `jq .` is just the simplest possible filter you could write: \"This is a filter that takes its input and produces it unchanged as output.\""
   ]
  },
  {
   "cell_type": "markdown",
   "metadata": {},
   "source": [
    "#### Profiling Data"
   ]
  },
  {
   "cell_type": "markdown",
   "metadata": {},
   "source": [
    "Remember from our [introduction to JSON](1-json-intro.ipynb), that you can think of the format as a combination of two types of structures. In Python these were called \"lists\" and \"dictionaries.\" In Javascript, these same structures are called \"arrays\" and \"objects\", respectively.\n",
    "\n",
    "`jq` gives us tools for getting data out of these two kind of structures. First, objects."
   ]
  },
  {
   "cell_type": "markdown",
   "metadata": {},
   "source": [
    "The top-level structure in each of our files is an object. Note the enclosing `{}`. `jq` gives us a built-in function for getting a list (\"array\") of all the keys in an object:"
   ]
  },
  {
   "cell_type": "code",
   "execution_count": null,
   "metadata": {
    "collapsed": false
   },
   "outputs": [],
   "source": [
    "!cat ../data/tate-collection/collection-1.2/artists/a/abakanowicz-magdalena-10093.json | jq 'keys'"
   ]
  },
  {
   "cell_type": "markdown",
   "metadata": {},
   "source": [
    "Now if we want to see the value associated with a particular key we can:"
   ]
  },
  {
   "cell_type": "code",
   "execution_count": null,
   "metadata": {
    "collapsed": false
   },
   "outputs": [],
   "source": [
    "!cat ../data/tate-collection/collection-1.2/artists/a/abakanowicz-magdalena-10093.json | jq '{gender}'"
   ]
  },
  {
   "cell_type": "markdown",
   "metadata": {},
   "source": [
    "We can get a subset of keys at the same time:"
   ]
  },
  {
   "cell_type": "code",
   "execution_count": null,
   "metadata": {
    "collapsed": false
   },
   "outputs": [],
   "source": [
    "!cat ../data/tate-collection/collection-1.2/artists/a/abakanowicz-magdalena-10093.json | jq '{fc, date, totalWorks}'"
   ]
  },
  {
   "cell_type": "markdown",
   "metadata": {},
   "source": [
    "#### Working with multiple objects\n",
    "\n",
    "This is where `jq`'s power starts to shine, e.g.:"
   ]
  },
  {
   "cell_type": "code",
   "execution_count": null,
   "metadata": {
    "collapsed": false
   },
   "outputs": [],
   "source": [
    "# Concatenate all 138 files together\n",
    "!cat ../data/tate-collection/collection-1.2/artists/a/*.json | jq -s '[.[]]' > ../data/tate-collection/all_a_artists.json"
   ]
  },
  {
   "cell_type": "markdown",
   "metadata": {},
   "source": [
    "The `-s` flag stands for `slurp`. It means read the JSON object from each file into one big string, the square brackets `[]` capture the output into a single array, then we write the result to a new file."
   ]
  },
  {
   "cell_type": "code",
   "execution_count": null,
   "metadata": {
    "collapsed": false
   },
   "outputs": [],
   "source": [
    "# One big array\n",
    "!cat ../data/tate-collection/all_a_artists.json | jq 'length'"
   ]
  },
  {
   "cell_type": "code",
   "execution_count": null,
   "metadata": {
    "collapsed": false
   },
   "outputs": [],
   "source": [
    "!cat ../data/tate-collection/all_a_artists.json | jq ."
   ]
  },
  {
   "cell_type": "markdown",
   "metadata": {},
   "source": [
    "`.[]` returns all the elements of an array, just as they are.\n",
    "\n",
    "Alternately, we can specify indices to get a subset or \"slice\":"
   ]
  },
  {
   "cell_type": "code",
   "execution_count": null,
   "metadata": {
    "collapsed": false
   },
   "outputs": [],
   "source": [
    "!cat ../data/tate-collection/all_a_artists.json | jq .[95:105]"
   ]
  },
  {
   "cell_type": "markdown",
   "metadata": {},
   "source": [
    "We can confirm we just have 10 records with the `length` function we saw above: "
   ]
  },
  {
   "cell_type": "code",
   "execution_count": null,
   "metadata": {
    "collapsed": false
   },
   "outputs": [],
   "source": [
    "!cat ../data/tate-collection/all_a_artists.json | jq .[95:105] | jq 'length'"
   ]
  },
  {
   "cell_type": "markdown",
   "metadata": {},
   "source": [
    "#### Plucking particular values"
   ]
  },
  {
   "cell_type": "markdown",
   "metadata": {},
   "source": [
    "Now we can combine our tools for manipulating arrays and objects into a sequence of little programs to pull out all the names and get just a list of those values:"
   ]
  },
  {
   "cell_type": "code",
   "execution_count": null,
   "metadata": {
    "collapsed": false
   },
   "outputs": [],
   "source": [
    "!cat ../data/tate-collection/all_a_artists.json | jq '[.[] | {fc}[]]'"
   ]
  },
  {
   "cell_type": "code",
   "execution_count": null,
   "metadata": {
    "collapsed": false
   },
   "outputs": [],
   "source": [
    "# Our 10 sample records\n",
    "!cat ../data/tate-collection/all_a_artists.json | jq '[.[] | {fc}[]]' | jq '.[95:105]'"
   ]
  },
  {
   "cell_type": "markdown",
   "metadata": {},
   "source": [
    "#### More advanced data profiling\n",
    "\n",
    "There are functions for finding minimum and maximum values in a set &mdash; let's use this on birth years:"
   ]
  },
  {
   "cell_type": "code",
   "execution_count": null,
   "metadata": {
    "collapsed": false
   },
   "outputs": [],
   "source": [
    "!cat ../data/tate-collection/all_a_artists.json | jq 'min_by(.birthYear)'"
   ]
  },
  {
   "cell_type": "markdown",
   "metadata": {},
   "source": [
    "Here the earliest birth year is for `Anonymous`, where the key does not even exist."
   ]
  },
  {
   "cell_type": "code",
   "execution_count": null,
   "metadata": {
    "collapsed": false
   },
   "outputs": [],
   "source": [
    "!cat ../data/tate-collection/all_a_artists.json | jq 'max_by(.birthYear)'"
   ]
  },
  {
   "cell_type": "markdown",
   "metadata": {},
   "source": [
    "We could use what we know so far to quickly find all the artists (with \"a\" names) who were born after 1900, by adding an invocation of the built-in `select` method:"
   ]
  },
  {
   "cell_type": "code",
   "execution_count": null,
   "metadata": {
    "collapsed": false
   },
   "outputs": [],
   "source": [
    "!cat ../data/tate-collection/all_a_artists.json | jq '[.[] | select(.birthYear >= 1900)]'"
   ]
  },
  {
   "cell_type": "markdown",
   "metadata": {},
   "source": [
    "To make it easier to see the results, let's simplify these objects to include just name and birth year:"
   ]
  },
  {
   "cell_type": "code",
   "execution_count": null,
   "metadata": {
    "collapsed": false
   },
   "outputs": [],
   "source": [
    "!cat ../data/tate-collection/all_a_artists.json | jq '[.[] | select(.birthYear >= 1900)]' | jq '[.[] | {fc, birthYear}]'"
   ]
  },
  {
   "cell_type": "markdown",
   "metadata": {},
   "source": [
    "And one more refinement, sorting by birth year to make it easier to inspect the list. (Using another built-in function)"
   ]
  },
  {
   "cell_type": "code",
   "execution_count": null,
   "metadata": {
    "collapsed": false
   },
   "outputs": [],
   "source": [
    "!cat ../data/tate-collection/all_a_artists.json | \\\n",
    "jq '[.[] | select(.birthYear >= 1900)]' | jq '[.[] | {fc, birthYear}]' | jq 'sort_by(.birthYear)'"
   ]
  },
  {
   "cell_type": "markdown",
   "metadata": {},
   "source": [
    "#### Creating new structures\n",
    "\n",
    "Finally we can use `jq` not only to read data structures but to reshape data from one structure to another:"
   ]
  },
  {
   "cell_type": "code",
   "execution_count": null,
   "metadata": {
    "collapsed": false
   },
   "outputs": [],
   "source": [
    "!cat ../data/tate-collection/all_a_artists.json | \\\n",
    "jq '{c19_births: [.[] | select(.birthYear <= 1900) | {fc} |.[]], \\\n",
    "c20_births: [.[] | select(.birthYear >= 1900) | {fc} | .[]]}'"
   ]
  },
  {
   "cell_type": "markdown",
   "metadata": {},
   "source": [
    "\\* We know from the example of \"Anonymous\" above that this solution is not perfect &mdash; how could we make it better?"
   ]
  },
  {
   "cell_type": "markdown",
   "metadata": {},
   "source": [
    "Note that I can use `jq` as a series of separate filter programs chained together:\n",
    "```\n",
    "jq '[.[] | select(.birthYear >= 1900)]' | jq '[.[] | {fc, birthYear}]' | jq 'sort_by(.birthYear)'\n",
    "```\n",
    "Or, I can achieve the same thing as one equivalent filter program that includes the various pipe mechanisms:\n",
    "```\n",
    "jq '{c19_births: [.[] | select(.birthYear <= 1900) | {fc} |.[]]'\n",
    "```\n",
    "I use the second method so I could make the result of that filter the value to a key in a new object I was building: \n",
    "```\n",
    "{\n",
    "    c19_births: […], \n",
    "    c20_births: […]\n",
    "}\n",
    "```"
   ]
  },
  {
   "cell_type": "code",
   "execution_count": null,
   "metadata": {
    "collapsed": true
   },
   "outputs": [],
   "source": []
  }
 ],
 "metadata": {
  "kernelspec": {
   "display_name": "Python 3",
   "language": "python",
   "name": "python3"
  },
  "language_info": {
   "codemirror_mode": {
    "name": "ipython",
    "version": 3
   },
   "file_extension": ".py",
   "mimetype": "text/x-python",
   "name": "python",
   "nbconvert_exporter": "python",
   "pygments_lexer": "ipython3",
   "version": "3.4.3"
  }
 },
 "nbformat": 4,
 "nbformat_minor": 0
}
