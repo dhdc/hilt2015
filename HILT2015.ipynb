{
 "cells": [
  {
   "cell_type": "markdown",
   "metadata": {},
   "source": [
    "#Welcome\n",
    "\n",
    "Here you'll find a collection of [Jupyter notebooks](https://jupyter.org/) that we'll be using as exercises in our [HILT 2015 course](http://www.dhtraining.org/hilt2015/course/humanities-data-curation-praxis/). You each have your own copy of all these notebooks so feel free to edit them and experiment however you'd like."
   ]
  },
  {
   "cell_type": "markdown",
   "metadata": {},
   "source": [
    "*Coming Soon* …"
   ]
  }
 ],
 "metadata": {
  "kernelspec": {
   "display_name": "Python 3",
   "language": "python",
   "name": "python3"
  },
  "language_info": {
   "codemirror_mode": {
    "name": "ipython",
    "version": 3
   },
   "file_extension": ".py",
   "mimetype": "text/x-python",
   "name": "python",
   "nbconvert_exporter": "python",
   "pygments_lexer": "ipython3",
   "version": "3.4.3"
  }
 },
 "nbformat": 4,
 "nbformat_minor": 0
}
